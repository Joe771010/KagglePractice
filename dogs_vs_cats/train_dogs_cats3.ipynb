{
 "cells": [
  {
   "cell_type": "code",
   "execution_count": 1,
   "metadata": {},
   "outputs": [
    {
     "name": "stdout",
     "output_type": "stream",
     "text": [
      "There are  12000 dog train images\n",
      "There are  12000 cat train images\n",
      "There are  500 dog valid images\n",
      "There are  500 cat valid images\n"
     ]
    }
   ],
   "source": [
    "# After unzipping training data manually, all 25000 images are in the 'train' folder.\n",
    "# Use the script below to put dog images into 'train/dogs/' and cat images into 'train/cats/'\n",
    "\n",
    "import os\n",
    "import numpy as np\n",
    "\n",
    "dir_train = 'train'\n",
    "dir_train_dogs = 'train/dogs'\n",
    "dir_train_cats = 'train/cats'\n",
    "\n",
    "dir_valid = 'valid'\n",
    "dir_valid_dogs = 'valid/dogs'\n",
    "dir_valid_cats = 'valid/cats'\n",
    "\n",
    "if not os.path.exists(dir_train_dogs):\n",
    "    os.mkdir(dir_train_dogs)\n",
    "    \n",
    "if not os.path.exists(dir_train_cats):\n",
    "    os.mkdir(dir_train_cats)\n",
    "    \n",
    "if not os.path.exists(dir_valid_dogs):\n",
    "    os.mkdir(dir_valid_dogs)\n",
    "    \n",
    "if not os.path.exists(dir_valid_cats):\n",
    "    os.mkdir(dir_valid_cats)\n",
    "\n",
    "# Initially all images are put in 'train'\n",
    "# separate dogs and cats in train/dogs and train/cats\n",
    "[os.rename(os.path.join(dir_train, f), os.path.join(dir_train_dogs, f)) for f in os.listdir(dir_train) if 'dog.' in f]\n",
    "[os.rename(os.path.join(dir_train, f), os.path.join(dir_train_cats, f)) for f in os.listdir(dir_train) if 'cat.' in f]\n",
    "\n",
    "# select 500 images for validation repectively\n",
    "# [os.rename(os.path.join(dir_train_dogs, f), os.path.join(dir_valid_dogs, f)) for f in np.random.choice(os.listdir(dir_train_dogs), 500, replace=False)]\n",
    "# [os.rename(os.path.join(dir_train_cats, f), os.path.join(dir_valid_cats, f)) for f in np.random.choice(os.listdir(dir_train_cats), 500, replace=False)]\n",
    "\n",
    "print('There are ', len(os.listdir(dir_train_dogs)), 'dog train images')\n",
    "print('There are ', len(os.listdir(dir_train_cats)), 'cat train images')\n",
    "print('There are ', len(os.listdir(dir_valid_dogs)), 'dog valid images')\n",
    "print('There are ', len(os.listdir(dir_valid_cats)), 'cat valid images')"
   ]
  },
  {
   "cell_type": "code",
   "execution_count": 2,
   "metadata": {},
   "outputs": [
    {
     "name": "stderr",
     "output_type": "stream",
     "text": [
      "Using TensorFlow backend.\n"
     ]
    },
    {
     "name": "stdout",
     "output_type": "stream",
     "text": [
      "There are 1000 training data\n",
      "X_train.shape = (1000, 224, 224, 3)\n",
      "y_train.shape = (1000, 2)\n"
     ]
    }
   ],
   "source": [
    "# 1000 image for training\n",
    "import cv2\n",
    "import numpy as np\n",
    "import keras\n",
    "\n",
    "X_train = []\n",
    "y_train = []\n",
    "for f in np.random.choice(os.listdir(dir_train_dogs), 500, replace=False):\n",
    "    X_train.append(cv2.resize(cv2.imread(os.path.join(dir_train_dogs, f)), (224, 224)))\n",
    "    y_train.append(1)\n",
    "for f in np.random.choice(os.listdir(dir_train_cats), 500, replace=False):\n",
    "    X_train.append(cv2.resize(cv2.imread(os.path.join(dir_train_cats, f)), (224, 224)))\n",
    "    y_train.append(0)\n",
    "    \n",
    "X_train = np.stack(X_train).astype(float)\n",
    "y_train = keras.utils.to_categorical(y_train, 2)\n",
    "\n",
    "\n",
    "print('There are', X_train.shape[0], 'training data')\n",
    "print('X_train.shape =', X_train.shape)\n",
    "print('y_train.shape =', y_train.shape)"
   ]
  },
  {
   "cell_type": "code",
   "execution_count": 3,
   "metadata": {},
   "outputs": [
    {
     "name": "stdout",
     "output_type": "stream",
     "text": [
      "There are 1000 validation data\n",
      "X_valid.shape = (1000, 224, 224, 3)\n",
      "y_valid.shape = (1000, 2)\n"
     ]
    }
   ],
   "source": [
    "# prepare validation data\n",
    "X_valid = []\n",
    "y_valid = []\n",
    "for f in os.listdir(dir_valid_dogs):\n",
    "    X_valid.append(cv2.resize(cv2.imread(os.path.join(dir_valid_dogs, f)), (224, 224)))\n",
    "    y_valid.append(1)\n",
    "for f in os.listdir(dir_valid_cats):\n",
    "    X_valid.append(cv2.resize(cv2.imread(os.path.join(dir_valid_cats, f)), (224, 224)))\n",
    "    y_valid.append(0)\n",
    "    \n",
    "X_valid = np.stack(X_valid).astype(float)\n",
    "y_valid = keras.utils.to_categorical(y_valid, 2)\n",
    "\n",
    "\n",
    "print('There are', X_valid.shape[0], 'validation data')\n",
    "print('X_valid.shape =', X_valid.shape)\n",
    "print('y_valid.shape =', y_valid.shape)"
   ]
  },
  {
   "cell_type": "code",
   "execution_count": 16,
   "metadata": {},
   "outputs": [
    {
     "data": {
      "text/plain": [
       "119"
      ]
     },
     "execution_count": 16,
     "metadata": {},
     "output_type": "execute_result"
    }
   ],
   "source": [
    "# import gc\n",
    "# from keras import backend as K\n",
    "# K.clear_session()\n",
    "# gc.collect()"
   ]
  },
  {
   "cell_type": "code",
   "execution_count": 4,
   "metadata": {},
   "outputs": [
    {
     "name": "stderr",
     "output_type": "stream",
     "text": [
      "/home/cvbridgechiao/kaggle/dogs_vs_cats/venv/lib/python3.6/site-packages/keras_applications/resnet50.py:265: UserWarning: The output shape of `ResNet50(include_top=False)` has been changed since Keras 2.2.0.\n",
      "  warnings.warn('The output shape of `ResNet50(include_top=False)` '\n"
     ]
    },
    {
     "name": "stdout",
     "output_type": "stream",
     "text": [
      "model contains 177 layers\n"
     ]
    },
    {
     "name": "stderr",
     "output_type": "stream",
     "text": [
      "/home/cvbridgechiao/kaggle/dogs_vs_cats/venv/lib/python3.6/site-packages/ipykernel_launcher.py:23: UserWarning: Update your `Model` call to the Keras 2 API: `Model(inputs=Tensor(\"in..., outputs=Tensor(\"de...)`\n"
     ]
    }
   ],
   "source": [
    "# load pre-trained cnn model: \n",
    "from keras.applications.xception import Xception\n",
    "from keras.applications.resnet50 import ResNet50\n",
    "from keras.layers import Dense, Activation, GlobalAveragePooling2D, BatchNormalization\n",
    "from keras.models import Model\n",
    "\n",
    "base_model = ResNet50(\n",
    "    include_top = False, \n",
    "    weights = 'imagenet', \n",
    "    input_shape = (224, 224, 3),\n",
    "    pooling = 'None')\n",
    "\n",
    "# Add a layer for two-class classification\n",
    "last_layer = base_model.output\n",
    "# last_layer = BatchNormalization(axis=3)(last_layer)\n",
    "last_layer = GlobalAveragePooling2D()(last_layer)\n",
    "last_layer = Dense(2, activation='softmax')(last_layer)\n",
    "\n",
    "# Do not train original parameters\n",
    "for layer in base_model.layers:\n",
    "    layer.trainable = False\n",
    "\n",
    "model = Model(input=base_model.input, output=last_layer)\n",
    "model.compile(optimizer='rmsprop', loss='categorical_crossentropy', metrics=['accuracy'])\n",
    "\n",
    "del base_model\n",
    "\n",
    "print('model contains', len(model.layers), 'layers')"
   ]
  },
  {
   "cell_type": "code",
   "execution_count": 5,
   "metadata": {},
   "outputs": [],
   "source": [
    "# print(model.summary())"
   ]
  },
  {
   "cell_type": "code",
   "execution_count": 6,
   "metadata": {},
   "outputs": [
    {
     "name": "stdout",
     "output_type": "stream",
     "text": [
      "Train on 1000 samples, validate on 200 samples\n",
      "Epoch 1/10\n",
      "1000/1000 [==============================] - 21s 21ms/step - loss: 0.2848 - acc: 0.8810 - val_loss: 0.0599 - val_acc: 0.9800\n",
      "Epoch 2/10\n",
      "1000/1000 [==============================] - 10s 10ms/step - loss: 0.1295 - acc: 0.9450 - val_loss: 0.0943 - val_acc: 0.9600\n",
      "Epoch 3/10\n",
      "1000/1000 [==============================] - 10s 10ms/step - loss: 0.1173 - acc: 0.9540 - val_loss: 0.0571 - val_acc: 0.9750\n",
      "Epoch 4/10\n",
      "1000/1000 [==============================] - 10s 10ms/step - loss: 0.0778 - acc: 0.9720 - val_loss: 0.1729 - val_acc: 0.9350\n",
      "Epoch 5/10\n",
      "1000/1000 [==============================] - 10s 10ms/step - loss: 0.0921 - acc: 0.9690 - val_loss: 0.0327 - val_acc: 0.9900\n",
      "Epoch 6/10\n",
      "1000/1000 [==============================] - 10s 10ms/step - loss: 0.0710 - acc: 0.9750 - val_loss: 0.3929 - val_acc: 0.8850\n",
      "Epoch 7/10\n",
      "1000/1000 [==============================] - 10s 10ms/step - loss: 0.0592 - acc: 0.9800 - val_loss: 0.0471 - val_acc: 0.9850\n",
      "Epoch 8/10\n",
      "1000/1000 [==============================] - 10s 10ms/step - loss: 0.0648 - acc: 0.9760 - val_loss: 0.0455 - val_acc: 0.9850\n",
      "Epoch 9/10\n",
      "1000/1000 [==============================] - 11s 11ms/step - loss: 0.0534 - acc: 0.9820 - val_loss: 0.1113 - val_acc: 0.9650\n",
      "Epoch 10/10\n",
      "1000/1000 [==============================] - 10s 10ms/step - loss: 0.0486 - acc: 0.9810 - val_loss: 0.2228 - val_acc: 0.9300\n"
     ]
    }
   ],
   "source": [
    "# training process\n",
    "\n",
    "history = model.fit(X_train, y_train, epochs=10, batch_size=16, validation_data=(X_valid[:200], y_valid[:200]))"
   ]
  },
  {
   "cell_type": "code",
   "execution_count": 8,
   "metadata": {},
   "outputs": [
    {
     "name": "stdout",
     "output_type": "stream",
     "text": [
      "1000/1000 [==============================] - 10s 10ms/step\n"
     ]
    }
   ],
   "source": [
    "r = model.evaluate(X_train, y_train)"
   ]
  },
  {
   "cell_type": "code",
   "execution_count": 10,
   "metadata": {},
   "outputs": [
    {
     "name": "stdout",
     "output_type": "stream",
     "text": [
      "1000/1000 [==============================] - 9s 9ms/step\n",
      "[0.11063935218552069, 0.964]\n"
     ]
    }
   ],
   "source": [
    "r = model.evaluate(X_valid, y_valid)\n",
    "print(r)"
   ]
  },
  {
   "cell_type": "code",
   "execution_count": 11,
   "metadata": {},
   "outputs": [],
   "source": [
    "model.save('my_model_no_generator.h5')"
   ]
  },
  {
   "cell_type": "code",
   "execution_count": null,
   "metadata": {},
   "outputs": [],
   "source": []
  }
 ],
 "metadata": {
  "kernelspec": {
   "display_name": "Python 3",
   "language": "python",
   "name": "python3"
  },
  "language_info": {
   "codemirror_mode": {
    "name": "ipython",
    "version": 3
   },
   "file_extension": ".py",
   "mimetype": "text/x-python",
   "name": "python",
   "nbconvert_exporter": "python",
   "pygments_lexer": "ipython3",
   "version": "3.6.8"
  }
 },
 "nbformat": 4,
 "nbformat_minor": 2
}
