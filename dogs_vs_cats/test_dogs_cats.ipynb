{
 "cells": [
  {
   "cell_type": "code",
   "execution_count": 1,
   "metadata": {},
   "outputs": [
    {
     "name": "stderr",
     "output_type": "stream",
     "text": [
      "Using TensorFlow backend.\n"
     ]
    }
   ],
   "source": [
    "# load my pre-trained model\n",
    "from keras.models import load_model\n",
    "\n",
    "model = load_model('my_model_0212_1.h5')"
   ]
  },
  {
   "cell_type": "code",
   "execution_count": 2,
   "metadata": {},
   "outputs": [
    {
     "name": "stdout",
     "output_type": "stream",
     "text": [
      "Found 12500 images belonging to 1 classes.\n"
     ]
    }
   ],
   "source": [
    "import keras\n",
    "from keras.preprocessing.image import ImageDataGenerator\n",
    "import numpy as np\n",
    "\n",
    "dir_test = 'test'\n",
    "\n",
    "test_datagen = ImageDataGenerator()\n",
    "test_generator = test_datagen.flow_from_directory(\n",
    "    dir_test, \n",
    "    target_size=(224, 224), \n",
    "    batch_size=16, \n",
    "    shuffle=False,\n",
    "    class_mode='categorical')\n"
   ]
  },
  {
   "cell_type": "code",
   "execution_count": 3,
   "metadata": {},
   "outputs": [],
   "source": [
    "# prediction: this will output 12500 predictions\n",
    "y_test = model.predict_generator(test_generator, int(12500/16)+1)"
   ]
  },
  {
   "cell_type": "code",
   "execution_count": 4,
   "metadata": {},
   "outputs": [],
   "source": [
    "# create submission file\n",
    "import pandas as pd\n",
    "\n",
    "# subm is a DataFrame object of pandas\n",
    "subm = pd.read_csv('sample_submission.csv')\n",
    "\n",
    "# test_generator.filenames contains ordered image paths (prediction order)\n",
    "ids = [x.split('/')[1].split('.')[0] for x in test_generator.filenames]\n",
    "\n",
    "for i, _id in enumerate(ids):\n",
    "    subm.loc[subm.id==int(_id), 'label'] = y_test[i][1]\n",
    "\n",
    "subm.to_csv('output_0212_1.csv', index=False)"
   ]
  },
  {
   "cell_type": "code",
   "execution_count": 5,
   "metadata": {},
   "outputs": [],
   "source": [
    "# clipping ??\n",
    "\n",
    "clipped = y_test.clip(min=0.02, max=0.98)\n",
    "\n",
    "for i, _id in enumerate(ids):\n",
    "    subm.loc[subm.id==int(_id), 'label'] = clipped[i][1]\n",
    "    \n",
    "subm.to_csv('output_0212_1_clipped.csv', index=False)"
   ]
  },
  {
   "cell_type": "code",
   "execution_count": null,
   "metadata": {},
   "outputs": [],
   "source": []
  }
 ],
 "metadata": {
  "kernelspec": {
   "display_name": "Python 3",
   "language": "python",
   "name": "python3"
  },
  "language_info": {
   "codemirror_mode": {
    "name": "ipython",
    "version": 3
   },
   "file_extension": ".py",
   "mimetype": "text/x-python",
   "name": "python",
   "nbconvert_exporter": "python",
   "pygments_lexer": "ipython3",
   "version": "3.6.8"
  }
 },
 "nbformat": 4,
 "nbformat_minor": 2
}
